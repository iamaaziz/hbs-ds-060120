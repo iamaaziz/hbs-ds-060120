{
 "cells": [
  {
   "cell_type": "code",
   "execution_count": 11,
   "metadata": {},
   "outputs": [],
   "source": [
    "list_test = {\"Momar\": [\"nguer\", 63], \"Yeyya\": [\"Wane\",59], \"Aziz\": [\"Nguer\", 32], \"Kabirou\": [\"Nguer\", 29], \"John\": [\"Doe\",35]}"
   ]
  },
  {
   "cell_type": "code",
   "execution_count": 7,
   "metadata": {},
   "outputs": [
    {
     "name": "stdout",
     "output_type": "stream",
     "text": [
      "{'Momar': ['nguer', 63], 'Yeyya': ['Wane', 59], 'Aziz': ['Nguer', 32], 'Kabirou': ['Nguer', 29], 'John': ['Doe', 35]}\n"
     ]
    }
   ],
   "source": [
    "print (list_test)"
   ]
  },
  {
   "cell_type": "code",
   "execution_count": 15,
   "metadata": {},
   "outputs": [
    {
     "data": {
      "text/plain": [
       "['Doe', 35]"
      ]
     },
     "execution_count": 15,
     "metadata": {},
     "output_type": "execute_result"
    }
   ],
   "source": [
    "list_test.pop(\"John\")\n"
   ]
  },
  {
   "cell_type": "code",
   "execution_count": 16,
   "metadata": {},
   "outputs": [
    {
     "name": "stdout",
     "output_type": "stream",
     "text": [
      "{'Momar': ['nguer', 63], 'Yeyya': ['Wane', 59], 'Aziz': ['Nguer', 32], 'Kabirou': ['Nguer', 29]}\n"
     ]
    }
   ],
   "source": [
    "print (list_test)"
   ]
  },
  {
   "cell_type": "code",
   "execution_count": 17,
   "metadata": {},
   "outputs": [
    {
     "name": "stdout",
     "output_type": "stream",
     "text": [
      "{'Momar': ['nguer', 63], 'Yeyya': ['Wane', 59], 'Aziz': ['Nguer', 32], 'Kabirou': ['Nguer', 29]}\n"
     ]
    }
   ],
   "source": [
    "list_test = {\"Momar\": [\"nguer\", 63], \"Yeyya\": [\"Wane\",59], \"Aziz\": [\"Nguer\", 32], \"Kabirou\": [\"Nguer\", 29], \"John\": [\"Doe\",35]}\n",
    "list_test.pop(\"John\")\n",
    "print (list_test)"
   ]
  },
  {
   "cell_type": "code",
   "execution_count": 3,
   "metadata": {},
   "outputs": [],
   "source": [
    "import math\n",
    "def cylinder_vol(height,radius):\n",
    "    vol = height * math.pi * (radius**2)\n",
    "    return vol\n",
    "cylinder_vol(12, 3.5)\n"
   ]
  },
  {
   "cell_type": "code",
   "execution_count": 4,
   "metadata": {},
   "outputs": [
    {
     "data": {
      "text/plain": [
       "461.8141200776996"
      ]
     },
     "execution_count": 4,
     "metadata": {},
     "output_type": "execute_result"
    }
   ],
   "source": [
    "\n"
   ]
  },
  {
   "cell_type": "code",
   "execution_count": null,
   "metadata": {},
   "outputs": [],
   "source": []
  }
 ],
 "metadata": {
  "kernelspec": {
   "display_name": "Python 3",
   "language": "python",
   "name": "python3"
  },
  "language_info": {
   "codemirror_mode": {
    "name": "ipython",
    "version": 3
   },
   "file_extension": ".py",
   "mimetype": "text/x-python",
   "name": "python",
   "nbconvert_exporter": "python",
   "pygments_lexer": "ipython3",
   "version": "3.7.6"
  }
 },
 "nbformat": 4,
 "nbformat_minor": 4
}
